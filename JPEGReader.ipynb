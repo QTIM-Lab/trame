{
 "cells": [
  {
   "cell_type": "code",
   "execution_count": 1,
   "metadata": {},
   "outputs": [
    {
     "data": {
      "text/plain": [
       "vtkmodules.vtkInteractionImage.vtkImageViewer2"
      ]
     },
     "execution_count": 1,
     "metadata": {},
     "output_type": "execute_result"
    }
   ],
   "source": [
    "import vtk\n",
    "# Attempt with https://kitware.github.io/vtk-examples/site/Java/IO/JPEGReader/\n",
    "# vtk.vtkNativeLibrary # Didn't work\n",
    "vtk.vtkRenderWindowInteractor\n",
    "# vtk.vtkImageReader2\n",
    "vtk.vtkJPEGReader # inherits from vtk.vtkImageReader2\n",
    "vtk.vtkNamedColors\n",
    "vtk.vtkImageViewer2\n"
   ]
  },
  {
   "cell_type": "code",
   "execution_count": 3,
   "metadata": {},
   "outputs": [],
   "source": [
    "images_path = \"images\"\n",
    "os.listdir(images_path)\n",
    "image = os.path.join(images_path, \"MRN 803567 2_aff_registered.jpg\")\n"
   ]
  },
  {
   "cell_type": "code",
   "execution_count": 4,
   "metadata": {},
   "outputs": [],
   "source": [
    "colors = vtk.vtkNamedColors()"
   ]
  },
  {
   "cell_type": "code",
   "execution_count": 5,
   "metadata": {},
   "outputs": [],
   "source": [
    "# Read Image\n",
    "jpegReader = vtk.vtkJPEGReader()\n",
    "jpegReader.SetFileName(image)"
   ]
  },
  {
   "cell_type": "code",
   "execution_count": 6,
   "metadata": {},
   "outputs": [
    {
     "data": {
      "text/plain": [
       "<vtkmodules.vtkInteractionImage.vtkImageViewer2(0x562567013170) at 0x7f5037f100a0>"
      ]
     },
     "execution_count": 6,
     "metadata": {},
     "output_type": "execute_result"
    }
   ],
   "source": [
    "# Visualize\n",
    "imageViewer2 = vtk.vtkImageViewer2()\n",
    "imageViewer2"
   ]
  },
  {
   "cell_type": "code",
   "execution_count": 7,
   "metadata": {},
   "outputs": [],
   "source": [
    "imageViewer2.SetInputConnection(jpegReader.GetOutputPort())"
   ]
  },
  {
   "cell_type": "code",
   "execution_count": 8,
   "metadata": {},
   "outputs": [],
   "source": [
    "renderWindowInteractor = vtk.vtkRenderWindowInteractor"
   ]
  },
  {
   "cell_type": "code",
   "execution_count": 15,
   "metadata": {},
   "outputs": [],
   "source": [
    "imageViewer2.SetupInteractor(renderWindowInteractor())\n",
    "imageViewer2.Render()"
   ]
  },
  {
   "cell_type": "code",
   "execution_count": 14,
   "metadata": {},
   "outputs": [],
   "source": [
    "imageViewer2.GetRenderer().ResetCamera()"
   ]
  },
  {
   "cell_type": "code",
   "execution_count": 11,
   "metadata": {},
   "outputs": [
    {
     "ename": "TypeError",
     "evalue": "SetBackground argument 1: expected a sequence of 3 values, got 24 values",
     "output_type": "error",
     "traceback": [
      "\u001b[0;31m---------------------------------------------------------------------------\u001b[0m",
      "\u001b[0;31mTypeError\u001b[0m                                 Traceback (most recent call last)",
      "Cell \u001b[0;32mIn[11], line 1\u001b[0m\n\u001b[0;32m----> 1\u001b[0m imageViewer2\u001b[39m.\u001b[39;49mGetRenderer()\u001b[39m.\u001b[39;49mSetBackground(colors\u001b[39m.\u001b[39;49mGetColor3d(\u001b[39m\"\u001b[39;49m\u001b[39mDarkSlateGray\u001b[39;49m\u001b[39m\"\u001b[39;49m)\u001b[39m.\u001b[39;49mGetData())\n\u001b[1;32m      2\u001b[0m imageViewer2\u001b[39m.\u001b[39mGetRenderWindow()\u001b[39m.\u001b[39mSetWindowName(\u001b[39m\"\u001b[39m\u001b[39mJPEGReader\u001b[39m\u001b[39m\"\u001b[39m)\n\u001b[1;32m      3\u001b[0m imageViewer2\u001b[39m.\u001b[39mRender()\n",
      "\u001b[0;31mTypeError\u001b[0m: SetBackground argument 1: expected a sequence of 3 values, got 24 values"
     ]
    }
   ],
   "source": [
    "\n",
    "imageViewer2.GetRenderer().SetBackground(colors.GetColor3d(\"DarkSlateGray\").GetData())\n",
    "imageViewer2.GetRenderWindow().SetWindowName(\"JPEGReader\")\n",
    "imageViewer2.Render()\n",
    "renderWindowInteractor.Start()"
   ]
  },
  {
   "cell_type": "code",
   "execution_count": 22,
   "metadata": {},
   "outputs": [
    {
     "data": {
      "text/plain": [
       "<vtkmodules.vtkCommonColor.vtkNamedColors(0x55f5c12189f0) at 0x7f05ec1b2f80>"
      ]
     },
     "execution_count": 22,
     "metadata": {},
     "output_type": "execute_result"
    }
   ],
   "source": [
    "colors()"
   ]
  },
  {
   "cell_type": "code",
   "execution_count": null,
   "metadata": {},
   "outputs": [],
   "source": []
  }
 ],
 "metadata": {
  "kernelspec": {
   "display_name": "Python 3.10.6 ('trame-qQhQzJbP-trame')",
   "language": "python",
   "name": "python3"
  },
  "language_info": {
   "codemirror_mode": {
    "name": "ipython",
    "version": 3
   },
   "file_extension": ".py",
   "mimetype": "text/x-python",
   "name": "python",
   "nbconvert_exporter": "python",
   "pygments_lexer": "ipython3",
   "version": "3.10.6"
  },
  "orig_nbformat": 4,
  "vscode": {
   "interpreter": {
    "hash": "88082947ae7b4020b4f98f3c764c73296c4aea9e7aac893bf5faf1f8ac36a641"
   }
  }
 },
 "nbformat": 4,
 "nbformat_minor": 2
}
