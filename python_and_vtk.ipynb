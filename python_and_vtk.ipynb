{
 "cells": [
  {
   "cell_type": "code",
   "execution_count": 1,
   "metadata": {},
   "outputs": [],
   "source": [
    "import os, vtk"
   ]
  },
  {
   "cell_type": "code",
   "execution_count": 3,
   "metadata": {},
   "outputs": [
    {
     "data": {
      "text/plain": [
       "['MRN 803567_aff_registered.jpg',\n",
       " 'MRN 876107_fixed.jpg',\n",
       " 'MRN 4386182_aff_registered.jpg',\n",
       " 'MRN 876107_aff_registered.jpg',\n",
       " 'MRN 803567 2_fixed.jpg',\n",
       " 'MRN 803567 2_aff_registered.jpg',\n",
       " 'MRN 4386182_fixed.jpg',\n",
       " 'MRN 803567_fixed.jpg']"
      ]
     },
     "execution_count": 3,
     "metadata": {},
     "output_type": "execute_result"
    }
   ],
   "source": [
    "images_path = \"images\"\n",
    "image = os.path.join(images_path, \"MRN 803567 2_aff_registered.jpg\")\n",
    "os.listdir(images_path)\n"
   ]
  },
  {
   "cell_type": "code",
   "execution_count": 4,
   "metadata": {},
   "outputs": [
    {
     "data": {
      "text/plain": [
       "vtkmodules.vtkIOImage.vtkImageReader2"
      ]
     },
     "execution_count": 4,
     "metadata": {},
     "output_type": "execute_result"
    }
   ],
   "source": [
    "# Attempt with https://kitware.github.io/vtk-examples/site/Java/IO/JPEGReader/\n",
    "# vtk.vtkNativeLibrary # Didn't work\n",
    "vtk.vtkRenderWindowInteractor\n",
    "vtk.vtkJPEGReader\n",
    "vtk.vtkImageViewer2\n",
    "vtk.vtkImageReader2\n"
   ]
  },
  {
   "cell_type": "code",
   "execution_count": 5,
   "metadata": {},
   "outputs": [
    {
     "data": {
      "text/plain": [
       "vtkmodules.vtkIOImage.vtkImageReader2"
      ]
     },
     "execution_count": 5,
     "metadata": {},
     "output_type": "execute_result"
    }
   ],
   "source": [
    "from vtkmodules import vtkIOImage\n",
    "vtkIOImage.vtkImageReader2"
   ]
  },
  {
   "cell_type": "code",
   "execution_count": 6,
   "metadata": {},
   "outputs": [
    {
     "ename": "TypeError",
     "evalue": "unbound method requires a vtkmodules.vtkIOImage.vtkImageReader2 as the first argument",
     "output_type": "error",
     "traceback": [
      "\u001b[0;31m---------------------------------------------------------------------------\u001b[0m",
      "\u001b[0;31mTypeError\u001b[0m                                 Traceback (most recent call last)",
      "Cell \u001b[0;32mIn[6], line 2\u001b[0m\n\u001b[1;32m      1\u001b[0m jpgReader \u001b[39m=\u001b[39m vtk\u001b[39m.\u001b[39mvtkJPEGReader\n\u001b[0;32m----> 2\u001b[0m jpgReader\u001b[39m.\u001b[39;49mSetFileName(image)\n\u001b[1;32m      3\u001b[0m jpgReader\u001b[39m.\u001b[39mSetFileName(vtkIOImage\u001b[39m.\u001b[39mvtkImageReader2, image)\n",
      "\u001b[0;31mTypeError\u001b[0m: unbound method requires a vtkmodules.vtkIOImage.vtkImageReader2 as the first argument"
     ]
    }
   ],
   "source": [
    "\n",
    "jpgReader = vtk.vtkJPEGReader\n",
    "jpgReader.SetFileName(image)\n",
    "jpgReader.SetFileName(vtkIOImage.vtkImageReader2, image)"
   ]
  }
 ],
 "metadata": {
  "kernelspec": {
   "display_name": "Python 3.10.6 ('trame-qQhQzJbP-trame')",
   "language": "python",
   "name": "python3"
  },
  "language_info": {
   "codemirror_mode": {
    "name": "ipython",
    "version": 3
   },
   "file_extension": ".py",
   "mimetype": "text/x-python",
   "name": "python",
   "nbconvert_exporter": "python",
   "pygments_lexer": "ipython3",
   "version": "3.10.6"
  },
  "orig_nbformat": 4,
  "vscode": {
   "interpreter": {
    "hash": "88082947ae7b4020b4f98f3c764c73296c4aea9e7aac893bf5faf1f8ac36a641"
   }
  }
 },
 "nbformat": 4,
 "nbformat_minor": 2
}
